{
 "cells": [
  {
   "cell_type": "code",
   "execution_count": 1,
   "metadata": {},
   "outputs": [],
   "source": [
    "import numpy as np\n",
    "import pandas as pd\n",
    "import datetime\n",
    "import seaborn as sns\n",
    "import matplotlib as mpl\n",
    "import matplotlib.pyplot as plt"
   ]
  },
  {
   "cell_type": "code",
   "execution_count": 2,
   "metadata": {},
   "outputs": [],
   "source": [
    "font_name = mpl.font_manager.FontProperties(fname='C:/Windows/Fonts/malgun.ttf').get_name()\n",
    "mpl.rc('font', family=font_name)\n",
    "mpl.rcParams.update({'font.size': 22})"
   ]
  },
  {
   "cell_type": "code",
   "execution_count": 3,
   "metadata": {},
   "outputs": [],
   "source": [
    "using_df = pd.read_csv(\"../input/서울특별시 공공자전거 대여이력 정보_2017년_1.csv\", engine='python')\n",
    "using_df = using_df.rename(columns={ \n",
    "    \"대여소번호\" : \"대여대여소번호\",\n",
    "    \"대여대여소명\" : \"대여대여소\",\n",
    "    \"거치대번호\" : \"대여거치대\",\n",
    "    \"반납대여소명\" : \"반납대여소\",\n",
    "    \"반납 거치대번호\" : \"반납거치대\"\n",
    "})\n",
    "\n",
    "for i in using_df.columns:\n",
    "    using_df = using_df.rename(columns={i:\"'\" + i + \"'\"})\n",
    "\n",
    " \n",
    "for i in range(1,7):\n",
    "    temp = pd.read_csv(f\"../input/서울특별시 공공자전거 대여이력 정보_2017년_{i+1}.csv\", engine='python')\n",
    "    using_df = pd.concat([using_df,temp], axis=0)\n",
    "\n",
    "\n",
    "        \n",
    "# for i in range(0,5):\n",
    "#     temp = pd.read_csv(f\"../input/서울특별시 공공자전거 대여이력 정보_2018년{i+1}.csv\", engine='python')\n",
    "#     using_df = pd.concat([using_df,temp], axis=0)\n",
    "    \n",
    "using_df = using_df.reset_index()\n",
    "del using_df['index']\n",
    "\n",
    "for i in using_df.columns:\n",
    "    using_df = using_df.rename(columns={i:i.replace(\"'\",\"\")})\n",
    "using_df.head()"
   ]
  },
  {
   "cell_type": "code",
   "execution_count": null,
   "metadata": {},
   "outputs": [],
   "source": [
    "work_df = using_df.set_index('대여일시')"
   ]
  },
  {
   "cell_type": "code",
   "execution_count": null,
   "metadata": {},
   "outputs": [],
   "source": [
    "work_df.head()"
   ]
  },
  {
   "cell_type": "code",
   "execution_count": null,
   "metadata": {},
   "outputs": [],
   "source": []
  },
  {
   "cell_type": "code",
   "execution_count": null,
   "metadata": {
    "scrolled": true
   },
   "outputs": [],
   "source": [
    "eiyoung = using_df.groupby(\"대여대여소번호\")[\"대여일시\"].count().reset_index()\n",
    "#이용횟수\n",
    "eiyoung"
   ]
  },
  {
   "cell_type": "code",
   "execution_count": null,
   "metadata": {},
   "outputs": [],
   "source": [
    "using_df['날짜'] = using_df['대여일시'].dt.date\n",
    "nalza = using_df.groupby([\"대여대여소번호\", \"대여대여소\", \"날짜\"])[\"대여일시\"].count().reset_index()\n",
    "daysofusing = nalza.groupby([\"대여대여소번호\", \"대여대여소\"])[\"날짜\"].count().reset_index()\n",
    "daysofusing = daysofusing.rename(columns={\"날짜\": \"이용일수\"})"
   ]
  },
  {
   "cell_type": "code",
   "execution_count": null,
   "metadata": {},
   "outputs": [],
   "source": [
    "usagedf = eiyoung.merge(daysofusing, on=\"대여대여소번호\", how='left')\n",
    "usagedf.head()"
   ]
  },
  {
   "cell_type": "code",
   "execution_count": null,
   "metadata": {
    "scrolled": true
   },
   "outputs": [],
   "source": [
    "usagedf[\"이용률\"] = list(map(lambda x,y : x/y, usagedf[\"대여일시\"], usagedf[\"이용일수\"]))\n",
    "usagedf.sort_values(by=\"이용률\", ascending=True)"
   ]
  },
  {
   "cell_type": "code",
   "execution_count": null,
   "metadata": {},
   "outputs": [],
   "source": [
    "gerchi = pd.read_excel(\"../input/공공자전거 대여소 운영현황(171108) (1).xlsx\")\n",
    "gerchi[\"대여소번호\"] = gerchi[\"대여소명\"].apply(lambda x:str(x).split(\".\")[0].strip())\n",
    "gerchi = gerchi[[\"대여소번호\", \"대여소명\",\"대여소_구\"]]\n",
    "gerchi = gerchi.rename(columns={\"대여소_구\" : \"구\"})\n",
    "gerchi.head()"
   ]
  },
  {
   "cell_type": "code",
   "execution_count": null,
   "metadata": {},
   "outputs": [],
   "source": [
    "gerchi2 = pd.read_excel(\"../input/공공자전거대여소정보_20180409.xlsx\")\n",
    "gerchi2.head()\n",
    "\n",
    "gerchi_all = pd.concat([gerchi, gerchi2[[\"대여소번호\", \"대여소명\", \"구\"]]], axis=0)\n",
    "gerchi_all['대여소번호'] = gerchi_all[\"대여소번호\"].apply(str)"
   ]
  },
  {
   "cell_type": "code",
   "execution_count": null,
   "metadata": {},
   "outputs": [],
   "source": [
    "gerchi_all = gerchi_all.drop_duplicates(subset=\"대여소번호\", keep=\"first\")"
   ]
  },
  {
   "cell_type": "code",
   "execution_count": null,
   "metadata": {
    "scrolled": true
   },
   "outputs": [],
   "source": [
    "merged_df = usagedf.merge(gerchi_all, left_on=\"대여대여소번호\", right_on=\"대여소번호\", how='left')\n",
    "merged_df.head()"
   ]
  },
  {
   "cell_type": "code",
   "execution_count": null,
   "metadata": {
    "scrolled": true
   },
   "outputs": [],
   "source": [
    "merged_df.sort_values(by=\"이용률\", ascending=False)"
   ]
  },
  {
   "cell_type": "code",
   "execution_count": null,
   "metadata": {},
   "outputs": [],
   "source": []
  }
 ],
 "metadata": {
  "kernelspec": {
   "display_name": "Python 3",
   "language": "python",
   "name": "python3"
  },
  "language_info": {
   "codemirror_mode": {
    "name": "ipython",
    "version": 3
   },
   "file_extension": ".py",
   "mimetype": "text/x-python",
   "name": "python",
   "nbconvert_exporter": "python",
   "pygments_lexer": "ipython3",
   "version": "3.6.5"
  }
 },
 "nbformat": 4,
 "nbformat_minor": 2
}
